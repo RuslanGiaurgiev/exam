{
 "cells": [
  {
   "cell_type": "markdown",
   "id": "35704ace",
   "metadata": {},
   "source": [
    "## ТРПО23-2_Гяургиев_Руслан_Вариант_2"
   ]
  },
  {
   "cell_type": "markdown",
   "id": "8987c28e",
   "metadata": {},
   "source": [
    "### Задание №1.\n",
    "Объявление класса, конструктор, создание объектов и одиночное наследование в Python. Управление доступом к атрибутам класса"
   ]
  },
  {
   "cell_type": "markdown",
   "id": "1b198087",
   "metadata": {},
   "source": [
    "Объявление класса - В Python класс объявляется с использованием ключевого слова class, за которым следует имя класса и двоеточие. Внутри класса вы можете определить атрибуты и методы.\n",
    "\n",
    "Конструктор - Конструктор в Python определяется методом __init__. Он вызывается при создании нового объекта класса и используется для инициализации атрибутов объекта. В приведенном выше примере __init__ принимает параметры name и age для инициализации атрибутов name и age.\n",
    "\n",
    "Создание объектов - Чтобы создать объект класса в Python, вы просто вызываете имя класса с необходимыми аргументами (если они есть).\n",
    "\n",
    "Одиночное наследование - Одиночное наследование в Python позволяет классу наследовать атрибуты и методы другого класса.\n",
    "##### Управление доступом к атрибутам класса в Python:\n",
    "\n",
    "Public-атрибуты — доступны и внутри класса, и снаружи\n",
    "\n",
    "Protected-атрибуты — доступны внутри класса и в его наследниках. Можно вызвать извне, но из-за нижнего подчеркивания возможно возникнут трудности\n",
    "\n",
    "Private-атрибуты — доступны только в данном классе и нигде более. Тоже можно вызвать извне, но для этого надо постараться"
   ]
  },
  {
   "cell_type": "markdown",
   "id": "88cc80f7",
   "metadata": {},
   "source": [
    "### Задание №2.\n",
    "Опишите класс Employee, заданный фамилией, именем, должностью и зарплатой. Включите в описание класса методы: вывода информации о сотруднике на экране, проверки, является ли зарплата высокой(больше 100.000 рублей), и свойство, позволяющее установить стаж работы."
   ]
  },
  {
   "cell_type": "code",
   "execution_count": 15,
   "id": "426089c3",
   "metadata": {},
   "outputs": [
    {
     "name": "stdout",
     "output_type": "stream",
     "text": [
      "Сотрудник: Иванов Иван\n",
      "Должность: Менеджер\n",
      "Зарплата: 120000 руб.\n",
      "Сотрудник: Сафиуллин Артур\n",
      "Должность: Попрошайка\n",
      "Зарплата: 10 руб.\n",
      "Зарплата сотрудника высокая: False\n",
      "Стаж работы сотрудника: 0 лет\n"
     ]
    }
   ],
   "source": [
    "class Employee:\n",
    "    def __init__(self, last_name, first_name, position, salary):\n",
    "        self.last_name = last_name\n",
    "        self.first_name = first_name\n",
    "        self.position = position\n",
    "        self.salary = salary\n",
    "        self.experience = 0  # Стаж работы указываем 0\n",
    "    def display_info(self):\n",
    "        print(f\"Сотрудник: {self.last_name} {self.first_name}\")\n",
    "        print(f\"Должность: {self.position}\")\n",
    "        print(f\"Зарплата: {self.salary} руб.\")\n",
    "    def is_high_salary(self):\n",
    "        return self.salary > 100000 #Проверка что зарплата больше 100000 р.\n",
    "    @property\n",
    "    def experience(self):\n",
    "        return self._experience\n",
    "    @experience.setter\n",
    "    def experience(self, value):\n",
    "        if value < 0:\n",
    "            raise ValueError(\"Стаж работы не может быть отрицательным.\")\n",
    "        else:\n",
    "            self._experience = value\n",
    "# Пример использования \n",
    "employee1 = Employee(\"Иванов\", \"Иван\", \"Менеджер\", 120000)\n",
    "employee2 = Employee(\"Сафиуллин\", \"Артур\", \"Рарзработчик\", 85000)\n",
    "\n",
    "# Вывод информации\n",
    "employee1.display_info()\n",
    "employee2.display_info()\n",
    "\n",
    "# Проверяем, является ли зарплата высокой\n",
    "print(f\"Зарплата сотрудника высокая: {employee2.is_high_salary()}\")\n",
    "\n",
    "# стаж\n",
    "employee1.experience = 5\n",
    "print(f\"Стаж работы сотрудника: {employee2.experience} лет\")\n"
   ]
  },
  {
   "cell_type": "markdown",
   "id": "732bef02",
   "metadata": {},
   "source": [
    "### Задание №3.\n",
    "Опишите класс Product, заданный названием, ценой количеством. Включите в описание класса методы: вывода информации о товаре на экран, првоерки, есть ли товар в наличии(количество больше 0), и свойство, позволяющее установить категорию товара."
   ]
  },
  {
   "cell_type": "code",
   "execution_count": 19,
   "id": "738907f6",
   "metadata": {},
   "outputs": [
    {
     "name": "stdout",
     "output_type": "stream",
     "text": [
      "Товар в наличии: True\n",
      "Название: Книга\n",
      "Цена: 500 руб.\n",
      "Количество: 10\n",
      "Категория не установлена\n",
      "Категория товара: Литература\n"
     ]
    }
   ],
   "source": [
    "class Product:\n",
    "    def __init__(self, name, price, quantity):\n",
    "        self.name = name\n",
    "        self.price = price\n",
    "        self.quantity = quantity\n",
    "        self.category = None  # Сначала категория не установлена\n",
    "\n",
    "    def display_info(self):\n",
    "        print(f\"Название: {self.name}\")\n",
    "        print(f\"Цена: {self.price} руб.\")\n",
    "        print(f\"Количество: {self.quantity}\")\n",
    "        if self.category:\n",
    "            print(f\"Категория: {self.category}\")\n",
    "        else:\n",
    "            print(\"Категория не установлена\")\n",
    "\n",
    "    def check_availability(self):\n",
    "        return self.quantity > 0\n",
    "\n",
    "    @property\n",
    "    def set_category(self, category):\n",
    "        self.category = category\n",
    "\n",
    "# Пример использования\n",
    "product1 = Product(\"Книга\", 500, 10) #(Название, цена, количество)\n",
    "print(\"Товар в наличии:\", product1.check_availability())\n",
    "# Вывод информации\n",
    "product1.display_info() \n",
    "# Категория книги\n",
    "category = 'Литература'\n",
    "print(\"Категория товара:\", category)"
   ]
  }
 ],
 "metadata": {
  "kernelspec": {
   "display_name": "Python 3 (ipykernel)",
   "language": "python",
   "name": "python3"
  },
  "language_info": {
   "codemirror_mode": {
    "name": "ipython",
    "version": 3
   },
   "file_extension": ".py",
   "mimetype": "text/x-python",
   "name": "python",
   "nbconvert_exporter": "python",
   "pygments_lexer": "ipython3",
   "version": "3.10.9"
  }
 },
 "nbformat": 4,
 "nbformat_minor": 5
}
